{
  "cells": [
    {
      "cell_type": "markdown",
      "metadata": {
        "id": "view-in-github",
        "colab_type": "text"
      },
      "source": [
        "<a href=\"https://colab.research.google.com/github/PavlovaAlena/PythonAnalitik1/blob/main/11Seminar1.ipynb\" target=\"_parent\"><img src=\"https://colab.research.google.com/assets/colab-badge.svg\" alt=\"Open In Colab\"/></a>"
      ]
    },
    {
      "cell_type": "markdown",
      "source": [
        "## Задание 1\n",
        "Оформляйте ноутбук, используя эти советы:\n",
        " * Номер задачи - заголовок 2\n",
        " * Номер подзадачи - заголовок 3\n",
        " * Предоставленные наборы данных оформляйте, как код"
      ],
      "metadata": {
        "id": "eHshoBA_nnQ-"
      }
    },
    {
      "cell_type": "markdown",
      "metadata": {
        "id": "3Y_c4Zm-zw0y"
      },
      "source": [
        "## Задание 2\n",
        "На складе лежат разные фрукты в разном количестве.\n",
        "Нужно написать функцию, которая на вход принимает любое количество названий фруктов и их количество, а возвращает общее количество фруктов на складе"
      ]
    },
    {
      "cell_type": "code",
      "execution_count": 23,
      "metadata": {
        "colab": {
          "base_uri": "https://localhost:8080/"
        },
        "id": "V8Pv-3U7zw02",
        "outputId": "a64bb803-961d-4269-9e5f-bdfecfc7e8e2"
      },
      "outputs": [
        {
          "output_type": "stream",
          "name": "stdout",
          "text": [
            "Общее кол-во фруктов: 34\n"
          ]
        }
      ],
      "source": [
        "def sumFruits(**kwargs):\n",
        "    return f'Общее кол-во фруктов: {sum(kwargs.values())}'\n",
        "\n",
        "print(sumFruits(ananas=4, kiwi=7, grape=8, pear=10, apricot=5))"
      ]
    },
    {
      "cell_type": "markdown",
      "metadata": {
        "id": "xr69YFySzw05"
      },
      "source": [
        "## Задание 3\n",
        "Дан список с затратами на рекламу `[100, 125, -90, 345, 655, -1, 0, 200]`. Но в данных есть ошибки, некоторые затраты имеют отрицательную величину. Удалите такие значения из списка и посчитайте суммарные затраты\n",
        "\n",
        "\n",
        "Необходимо использовать list comprehensions"
      ]
    },
    {
      "cell_type": "code",
      "source": [
        "listCost = [100, 125, -90, 345, 655, -1, 0, 200]"
      ],
      "metadata": {
        "id": "4FgWUj8s-hnk"
      },
      "execution_count": null,
      "outputs": []
    },
    {
      "cell_type": "code",
      "execution_count": 24,
      "metadata": {
        "colab": {
          "base_uri": "https://localhost:8080/"
        },
        "id": "bmJg3BeAzw06",
        "outputId": "79a711cb-558c-4dd7-b257-13220a5808af"
      },
      "outputs": [
        {
          "output_type": "stream",
          "name": "stdout",
          "text": [
            "Новый список затрат: [100, 125, 345, 655, 200]\n",
            "Суммарные затраты: 1425\n"
          ]
        }
      ],
      "source": [
        "def convertCost(listCost):\n",
        "    listCostNew = []\n",
        "    for i in listCost:\n",
        "        if i > 0:\n",
        "            listCostNew.append(i)\n",
        "    return listCostNew       \n",
        "\n",
        "print(f'Новый список затрат: {convertCost(listCost)}')\n",
        "print(f'Суммарные затраты: {sum(convertCost(listCost))}')\n"
      ]
    },
    {
      "cell_type": "code",
      "source": [
        "def convertCost(listCost):\n",
        "    return [i for i in listCost if i > 0]\n",
        "\n",
        "listCostNew = convertCost(listCost)\n",
        "print(f'Новый список затрат: {listCostNew}')\n",
        "print(f'Суммарные затраты: {sum(listCostNew)}')\n"
      ],
      "metadata": {
        "colab": {
          "base_uri": "https://localhost:8080/"
        },
        "id": "OuWo72U04Sn4",
        "outputId": "2416a043-b01e-4a54-fc16-08f95eff85aa"
      },
      "execution_count": 25,
      "outputs": [
        {
          "output_type": "stream",
          "name": "stdout",
          "text": [
            "Новый список затрат: [100, 125, 345, 655, 200]\n",
            "Суммарные затраты: 1425\n"
          ]
        }
      ]
    },
    {
      "cell_type": "markdown",
      "source": [
        "## Задание 4\n",
        "\n",
        "Даны два списка:\n",
        "\n",
        "Дата покупки\n",
        "`['2021-09-14', '2021-12-15', '2021-09-08', '2021-12-05', '2021-10-09', '2021-09-30', '2021-12-22', '2021-11-29', '2021-12-24', '2021-11-26', '2021-10-27', '2021-12-18', '2021-11-09', '2021-11-23', '2021-09-27', '2021-10-02', '2021-12-27', '2021-09-20', '2021-12-13', '2021-11-01', '2021-11-09', '2021-12-06', '2021-12-08', '2021-10-09', '2021-10-31', '2021-09-30', '2021-11-09', '2021-12-13', '2021-10-26', '2021-12-09']`\n",
        "\n",
        "Суммы покупок по датам\n",
        "`[1270, 8413, 9028, 3703, 5739, 4095, 295, 4944, 5723, 3701, 4471, 651, 7037, 4274, 6275, 4988, 6930, 2971, 6592, 2004, 2822, 519, 3406, 2732, 5015, 2008, 316, 6333, 5700, 2887]`\n",
        "\n",
        "### 4.1\n",
        "Найдите, какая выручка у компании в ноябре.\n",
        "Необходимо использовать list comprehensions"
      ],
      "metadata": {
        "id": "Y-x62weX71Ur"
      }
    },
    {
      "cell_type": "code",
      "source": [
        "dateIncome = ['2021-09-14', '2021-12-15', '2021-09-08', '2021-12-05', '2021-10-09', '2021-09-30', '2021-12-22', '2021-11-29', '2021-12-24', '2021-11-26', '2021-10-27', '2021-12-18', '2021-11-09', '2021-11-23', '2021-09-27', \n",
        "        '2021-10-02', '2021-12-27', '2021-09-20', '2021-12-13', '2021-11-01', '2021-11-09', '2021-12-06', '2021-12-08', '2021-10-09', '2021-10-31', '2021-09-30', '2021-11-09', '2021-12-13', '2021-10-26', '2021-12-09']\n",
        "sumIncome = [1270, 8413, 9028, 3703, 5739, 4095, 295, 4944, 5723, 3701, 4471, 651, 7037, 4274, 6275, 4988, 6930, 2971, 6592, 2004, 2822, 519, 3406, 2732, 5015, 2008, 316, 6333, 5700, 2887]"
      ],
      "metadata": {
        "id": "qNfAqeJw8pgt"
      },
      "execution_count": 26,
      "outputs": []
    },
    {
      "cell_type": "code",
      "source": [
        "def novemberIncome(dIncome, sIncome):\n",
        "    sIncomeNew = []\n",
        "    for i in range(len(dIncome)-1):\n",
        "        if '-11-' in dIncome[i]:\n",
        "            sIncomeNew.append(sIncome[i])\n",
        "    return sIncomeNew\n",
        "\n",
        "print(f'Суммы покупок за ноябрь: {novemberIncome(dateIncome, sumIncome)}')\n",
        "print(f'Выручка у компании в ноябре: {sum(novemberIncome(dateIncome, sumIncome))}')"
      ],
      "metadata": {
        "colab": {
          "base_uri": "https://localhost:8080/"
        },
        "id": "Q72Ra0EhAl5m",
        "outputId": "722c8be0-3b58-4614-9617-fd215ca32c62"
      },
      "execution_count": 27,
      "outputs": [
        {
          "output_type": "stream",
          "name": "stdout",
          "text": [
            "Суммы покупок за ноябрь: [4944, 3701, 7037, 4274, 2004, 2822, 316]\n",
            "Выручка у компании в ноябре: 25098\n"
          ]
        }
      ]
    },
    {
      "cell_type": "code",
      "source": [
        "def novemberIncome(dIncome, sIncome):\n",
        "    return [sIncome[i] for i in range(len(dIncome)-1) if '-11-' in dIncome[i]]\n",
        "\n",
        "print(f'Суммы покупок за ноябрь: {novemberIncome(dateIncome, sumIncome)}')\n",
        "print(f'Выручка у компании в ноябре: {sum(novemberIncome(dateIncome, sumIncome))}')"
      ],
      "metadata": {
        "colab": {
          "base_uri": "https://localhost:8080/"
        },
        "id": "T1rHC-n7UZor",
        "outputId": "1931f47b-89d7-49ed-b1ba-afa1b62dc0fe"
      },
      "execution_count": 28,
      "outputs": [
        {
          "output_type": "stream",
          "name": "stdout",
          "text": [
            "Суммы покупок за ноябрь: [4944, 3701, 7037, 4274, 2004, 2822, 316]\n",
            "Выручка у компании в ноябре: 25098\n"
          ]
        }
      ]
    },
    {
      "cell_type": "markdown",
      "source": [
        "### 4.2\n",
        "Найдите выручку компании в зависимости от месяца. Для этого напишите функцию, которая на вход принимает список с датами и список с выручкой, а на выходе словарь, где ключи - это месяцы, а значения - это выручка. Необходимо использовать аннотирование типов."
      ],
      "metadata": {
        "id": "GScDI04Ybq9f"
      }
    },
    {
      "cell_type": "code",
      "source": [
        "def IncomeMonth(dIncome, sIncome) -> dict:\n",
        "    \n",
        "    dictIncomeMonth = {}\n",
        "    \n",
        "    for i in range(len(dIncome)):\n",
        "        \n",
        "        if dIncome[i].split('-')[1] in dictIncomeMonth.keys():\n",
        "            dictIncomeMonth[dIncome[i].split('-')[1]] += sIncome[i]\n",
        "        else:\n",
        "            dictIncomeMonth[dIncome[i].split('-')[1]] = sIncome[i]\n",
        "            \n",
        "    return dict(sorted(dictIncomeMonth.items()))\n",
        "\n",
        "print(IncomeMonth(dateIncome, sumIncome))"
      ],
      "metadata": {
        "colab": {
          "base_uri": "https://localhost:8080/"
        },
        "id": "wQkG2NyecHVt",
        "outputId": "1bf4e7ba-4e06-4c58-edae-cc9749b10bb6"
      },
      "execution_count": 29,
      "outputs": [
        {
          "output_type": "stream",
          "name": "stdout",
          "text": [
            "{'09': 25647, '10': 28645, '11': 25098, '12': 45452}\n"
          ]
        }
      ]
    }
  ],
  "metadata": {
    "kernelspec": {
      "display_name": "Python 3.8.10 64-bit",
      "language": "python",
      "name": "python3"
    },
    "language_info": {
      "name": "python",
      "version": "3.8.10"
    },
    "orig_nbformat": 4,
    "vscode": {
      "interpreter": {
        "hash": "7a96227b8776e9e8b92184c6bd2959aa06e1e0881b6901ba05538acbe1b6a7a4"
      }
    },
    "colab": {
      "provenance": [],
      "include_colab_link": true
    }
  },
  "nbformat": 4,
  "nbformat_minor": 0
}